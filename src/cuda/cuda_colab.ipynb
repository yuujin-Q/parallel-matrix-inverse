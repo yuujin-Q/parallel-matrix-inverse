{
  "cells": [
    {
      "cell_type": "markdown",
      "metadata": {
        "id": "GY5LBx4UuxZl"
      },
      "source": [
        "# Setup"
      ]
    },
    {
      "cell_type": "code",
      "execution_count": 1,
      "metadata": {
        "id": "PExlVrs4uv4m"
      },
      "outputs": [],
      "source": [
        "# https://www.geeksforgeeks.org/how-to-run-cuda-c-c-on-jupyter-notebook-in-google-colaboratory/"
      ]
    },
    {
      "cell_type": "code",
      "execution_count": 8,
      "metadata": {
        "colab": {
          "base_uri": "https://localhost:8080/"
        },
        "id": "M-AIy-7PsXXp",
        "outputId": "bbfb4c3f-554c-46bc-f456-730dfcb3a8ef"
      },
      "outputs": [
        {
          "output_type": "stream",
          "name": "stdout",
          "text": [
            "nvcc: NVIDIA (R) Cuda compiler driver\n",
            "Copyright (c) 2005-2023 NVIDIA Corporation\n",
            "Built on Tue_Aug_15_22:02:13_PDT_2023\n",
            "Cuda compilation tools, release 12.2, V12.2.140\n",
            "Build cuda_12.2.r12.2/compiler.33191640_0\n"
          ]
        }
      ],
      "source": [
        "!nvcc --version"
      ]
    },
    {
      "cell_type": "code",
      "source": [
        "!pip install git+https://github.com/andreinechaev/nvcc4jupyter.git"
      ],
      "metadata": {
        "colab": {
          "base_uri": "https://localhost:8080/"
        },
        "id": "oHS_oHkjG9w-",
        "outputId": "9fdc5014-662a-4afb-f011-5b4726e3204e"
      },
      "execution_count": 9,
      "outputs": [
        {
          "output_type": "stream",
          "name": "stdout",
          "text": [
            "Collecting git+https://github.com/andreinechaev/nvcc4jupyter.git\n",
            "  Cloning https://github.com/andreinechaev/nvcc4jupyter.git to /tmp/pip-req-build-tkwu5zm5\n",
            "  Running command git clone --filter=blob:none --quiet https://github.com/andreinechaev/nvcc4jupyter.git /tmp/pip-req-build-tkwu5zm5\n",
            "  Resolved https://github.com/andreinechaev/nvcc4jupyter.git to commit 5741c522547756ac4bb7a16df32106a15efb8a57\n",
            "  Installing build dependencies ... \u001b[?25l\u001b[?25hdone\n",
            "  Getting requirements to build wheel ... \u001b[?25l\u001b[?25hdone\n",
            "  Preparing metadata (pyproject.toml) ... \u001b[?25l\u001b[?25hdone\n",
            "Building wheels for collected packages: nvcc4jupyter\n",
            "  Building wheel for nvcc4jupyter (pyproject.toml) ... \u001b[?25l\u001b[?25hdone\n",
            "  Created wheel for nvcc4jupyter: filename=nvcc4jupyter-1.2.1-py3-none-any.whl size=10739 sha256=99634096e9ae99b658cd96f87c6e8ccf9cbc16bf9f7ab36b8a182687000c7e83\n",
            "  Stored in directory: /tmp/pip-ephem-wheel-cache-7x2yrz3b/wheels/a8/b9/18/23f8ef71ceb0f63297dd1903aedd067e6243a68ea756d6feea\n",
            "Successfully built nvcc4jupyter\n",
            "Installing collected packages: nvcc4jupyter\n",
            "Successfully installed nvcc4jupyter-1.2.1\n"
          ]
        }
      ]
    },
    {
      "cell_type": "code",
      "source": [
        "%load_ext nvcc4jupyter"
      ],
      "metadata": {
        "colab": {
          "base_uri": "https://localhost:8080/"
        },
        "id": "8_lj4MJZHCfW",
        "outputId": "e8d8afc4-588d-49ca-9f6c-76a3859fc459"
      },
      "execution_count": 10,
      "outputs": [
        {
          "output_type": "stream",
          "name": "stdout",
          "text": [
            "Detected platform \"Colab\". Running its setup...\n",
            "Source files will be saved in \"/tmp/tmpbcr9faoc\".\n"
          ]
        }
      ]
    },
    {
      "cell_type": "markdown",
      "metadata": {
        "id": "KhW3T1YGu6Ew"
      },
      "source": [
        "# Kode CUDA"
      ]
    },
    {
      "cell_type": "code",
      "execution_count": 11,
      "metadata": {
        "colab": {
          "base_uri": "https://localhost:8080/"
        },
        "id": "Co9T1Xpo3AnO",
        "outputId": "de5907c0-8fae-4deb-d641-774c1da7124b"
      },
      "outputs": [
        {
          "output_type": "stream",
          "name": "stdout",
          "text": [
            "Writing cuda.cu\n"
          ]
        }
      ],
      "source": [
        "%%writefile cuda.cu\n",
        "\n",
        "#include <stdio.h>\n",
        "#include <math.h>\n",
        "#include <stdbool.h>\n",
        "#define ROW_OP_THREAD 256\n",
        "\n",
        "\n",
        "double *allocate_matrix(int n, bool isAugmented)\n",
        "{\n",
        "  int col = isAugmented ? 2*n : n;\n",
        "    double *mat = (double *)malloc(n * col * sizeof(double));\n",
        "\n",
        "    if (mat == NULL)\n",
        "    {\n",
        "        printf(\"Memory allocation failed!\");\n",
        "        free(mat);\n",
        "        return NULL;\n",
        "    }\n",
        "\n",
        "    return mat;\n",
        "}\n",
        "\n",
        "int get_matrix_index(int row, int col, int width)\n",
        "{\n",
        "    return width * row + col;\n",
        "}\n",
        "\n",
        "void read_matrix(double *matrix, int n)\n",
        "{\n",
        "    double d = 0.0;\n",
        "        for (int i = 0; i < n; i++)\n",
        "        {\n",
        "            for (int j = 0; j < n; j++)\n",
        "            {\n",
        "                scanf(\"%lf\", &d);\n",
        "                matrix[get_matrix_index(i, j, 2 * (n))] = d;\n",
        "            }\n",
        "        }\n",
        "        for (int i = 0; i < n; ++i)\n",
        "        {\n",
        "            for (int j = n; j < 2 * (n); ++j)\n",
        "            {\n",
        "                if (j == (i + (n)))\n",
        "                {\n",
        "                    matrix[get_matrix_index(i, j, 2 * (n))] = 1;\n",
        "                }\n",
        "                else\n",
        "                {\n",
        "                    matrix[get_matrix_index(i, j, 2 * (n))] = 0;\n",
        "                }\n",
        "            }\n",
        "        }\n",
        "}\n",
        "\n",
        "void print_result(double *mat, int rows)\n",
        "{\n",
        "    printf(\"%d\\n\", rows);\n",
        "    for (int i = 0; i < rows; i++)\n",
        "    {\n",
        "        for (int j = rows; j < rows*2; j++)\n",
        "        {\n",
        "            printf(\"%lf \", mat[get_matrix_index(i, j, rows*2)]);\n",
        "        }\n",
        "        printf(\"\\n\");\n",
        "    }\n",
        "}\n",
        "\n",
        "__device__ int GetMatrixIdx(int row, int col, int width)\n",
        "{\n",
        "    return width * row + col;\n",
        "}\n",
        "\n",
        "__global__ void NormalizePivotRow(double* mat, int n, int pivot_idx, double d) {\n",
        "  // called for pivot row only\n",
        "  __shared__ double lmat[ROW_OP_THREAD];\n",
        "  int col = threadIdx.x + blockIdx.x * blockDim.x;\n",
        "\n",
        "  if (col < 2 * n) {\n",
        "    lmat[threadIdx.x] = mat[GetMatrixIdx(pivot_idx, col, 2*n)] / d;\n",
        "    __syncthreads();\n",
        "    mat[GetMatrixIdx(pivot_idx, col, 2*n)] = lmat[threadIdx.x];\n",
        "  }\n",
        "}\n",
        "\n",
        "__global__ void NormalizePivotHelper(double* mat, int n, int pivot_idx) {\n",
        "  double d = mat[GetMatrixIdx(pivot_idx, pivot_idx, 2*n)];\n",
        "  NormalizePivotRow<<<ceil(2.0 * n / double(ROW_OP_THREAD)), ROW_OP_THREAD>>>(mat, n, pivot_idx, d);\n",
        "  __syncthreads();\n",
        "}\n",
        "\n",
        "__global__ void SubtractNonPivot(double* mat, int n, int row_idx, int pivot_idx, double d) {\n",
        "  // called for nonpivot only\n",
        "\n",
        "  __shared__ double lmat[ROW_OP_THREAD];\n",
        "  int col = threadIdx.x + blockIdx.x * blockDim.x;\n",
        "\n",
        "  if (col < 2 * n) {\n",
        "    lmat[threadIdx.x] = mat[GetMatrixIdx(row_idx, col, 2*n)] - (d * mat[GetMatrixIdx(pivot_idx, col, 2*n)]);\n",
        "    __syncthreads();\n",
        "    mat[GetMatrixIdx(row_idx, col, 2*n)] = lmat[threadIdx.x];\n",
        "  }\n",
        "}\n",
        "\n",
        "\n",
        "__global__ void SubsNonPivotKernel(double* mat, int n, int pivot_idx, int block_size) {\n",
        "  int row_size = n /block_size;\n",
        "  int start_row = (threadIdx.x * row_size);\n",
        "  int end_row = start_row + row_size;\n",
        "\n",
        "  for (int row = start_row; row < end_row; row++) {\n",
        "    if (row != pivot_idx) {\n",
        "      double d = mat[GetMatrixIdx(row, pivot_idx, 2*n)] / mat[GetMatrixIdx(pivot_idx, pivot_idx, 2*n)];\n",
        "      SubtractNonPivot<<<ceil(2.0 * n / double(ROW_OP_THREAD)), ROW_OP_THREAD>>>(mat, n, row, pivot_idx, d);\n",
        "    }\n",
        "  }\n",
        "}\n",
        "\n",
        "void invert_matrix(int n, double* mat) {\n",
        "  double* d_mat;\n",
        "  size_t size = n * n * 2 * sizeof(double);\n",
        "  cudaMalloc((void**)&d_mat, size);\n",
        "  cudaMemcpy(d_mat, mat, size, cudaMemcpyHostToDevice);\n",
        "\n",
        "  int block_size = n >= 1024 ? 1024 : n;\n",
        "  dim3 dimBlock(block_size);\n",
        "  dim3 dimGrid(1, 1);\n",
        "\n",
        "  for (int i=0; i<n; i++) {\n",
        "    NormalizePivotHelper<<<1, 1>>>(d_mat, n, i);\n",
        "    cudaDeviceSynchronize();\n",
        "\n",
        "    SubsNonPivotKernel<<<dimGrid, dimBlock>>>(d_mat, n, i, block_size);\n",
        "    cudaDeviceSynchronize();\n",
        "  }\n",
        "\n",
        "  cudaMemcpy(mat, d_mat, size, cudaMemcpyDeviceToHost);\n",
        "\n",
        "  cudaFree(d_mat);\n",
        "}\n",
        "\n",
        "int main(void) {\n",
        "  int n;\n",
        "  scanf(\"%d\", &n);\n",
        "\n",
        "  double* mat = allocate_matrix(n, true);\n",
        "  read_matrix(mat, n);\n",
        "\n",
        "  invert_matrix(n, mat);\n",
        "\n",
        "  print_result(mat, n);\n",
        "\n",
        "  return 0;\n",
        "}"
      ]
    },
    {
      "cell_type": "markdown",
      "source": [
        "Enable Relocatable Device Code (RDC) and lcudadevrt linker to enable dynamic parallelism"
      ],
      "metadata": {
        "id": "8H8-0TfovrPI"
      }
    },
    {
      "cell_type": "code",
      "execution_count": 12,
      "metadata": {
        "id": "h6eFuOC1qTid"
      },
      "outputs": [],
      "source": [
        "!nvcc cuda.cu -rdc=true -lcudadevrt -o cuda"
      ]
    },
    {
      "cell_type": "markdown",
      "metadata": {
        "id": "-t4bNRTgs6AC"
      },
      "source": [
        "# Get Testcase"
      ]
    },
    {
      "cell_type": "code",
      "source": [
        "from google.colab import drive\n",
        "drive.mount('/content/drive')"
      ],
      "metadata": {
        "colab": {
          "base_uri": "https://localhost:8080/"
        },
        "id": "_VawfwZoCRtW",
        "outputId": "e3701a44-95bb-4eea-dbd3-82dc45bc43b0"
      },
      "execution_count": 2,
      "outputs": [
        {
          "output_type": "stream",
          "name": "stdout",
          "text": [
            "Mounted at /content/drive\n"
          ]
        }
      ]
    },
    {
      "cell_type": "markdown",
      "source": [
        "access test case using this path /content/drive/Shareddrives/Sister/test_cases/32.txt"
      ],
      "metadata": {
        "id": "9YhOKUnQDaW_"
      }
    },
    {
      "cell_type": "markdown",
      "metadata": {
        "id": "7tC3-PYVGYYq"
      },
      "source": [
        "# Execution Cuda"
      ]
    },
    {
      "cell_type": "markdown",
      "source": [
        "Example input via stdin"
      ],
      "metadata": {
        "id": "snHWZCK4wHjc"
      }
    },
    {
      "cell_type": "code",
      "source": [
        "!time ./cuda"
      ],
      "metadata": {
        "colab": {
          "base_uri": "https://localhost:8080/"
        },
        "id": "jbKTvUtGwors",
        "outputId": "c65df963-e9d9-43fb-c796-333af26e8dc1"
      },
      "execution_count": null,
      "outputs": [
        {
          "output_type": "stream",
          "name": "stdout",
          "text": [
            "3 3 0 2 0 1 1 2 0 -2\n",
            "0 0 2560 0 2560 0 2563\n",
            "0.200000 0.000000 0.200000 \n",
            "-0.200000 1.000000 0.300000 \n",
            "0.200000 -0.000000 -0.300000 \n",
            "\n",
            "real\t0m2.905s\n",
            "user\t0m0.080s\n",
            "sys\t0m0.215s\n"
          ]
        }
      ]
    },
    {
      "cell_type": "code",
      "source": [
        "!time ./cuda < /content/drive/Shareddrives/Sister/test_cases/32.txt > outcuda32.txt"
      ],
      "metadata": {
        "colab": {
          "base_uri": "https://localhost:8080/"
        },
        "id": "4O5Ld5jPwK-w",
        "outputId": "4ff7d7a2-786d-4263-aab1-84c9af8f62a4"
      },
      "execution_count": 13,
      "outputs": [
        {
          "output_type": "stream",
          "name": "stdout",
          "text": [
            "\n",
            "real\t0m0.478s\n",
            "user\t0m0.117s\n",
            "sys\t0m0.217s\n"
          ]
        }
      ]
    },
    {
      "cell_type": "code",
      "source": [
        "!time ./cuda < /content/drive/Shareddrives/Sister/test_cases/64.txt > outcuda64.txt"
      ],
      "metadata": {
        "colab": {
          "base_uri": "https://localhost:8080/"
        },
        "id": "Gok4E5fDwO04",
        "outputId": "5d87aa97-87b3-4d02-e7d8-aa23205dd60f"
      },
      "execution_count": 14,
      "outputs": [
        {
          "output_type": "stream",
          "name": "stdout",
          "text": [
            "\n",
            "real\t0m0.305s\n",
            "user\t0m0.080s\n",
            "sys\t0m0.215s\n"
          ]
        }
      ]
    },
    {
      "cell_type": "code",
      "source": [
        "!time ./cuda < /content/drive/Shareddrives/Sister/test_cases/128.txt > outcuda128.txt"
      ],
      "metadata": {
        "colab": {
          "base_uri": "https://localhost:8080/"
        },
        "id": "FmyuXQ_2wSYo",
        "outputId": "a3daeee8-a153-45c8-fa3b-882a8c050399"
      },
      "execution_count": 15,
      "outputs": [
        {
          "output_type": "stream",
          "name": "stdout",
          "text": [
            "\n",
            "real\t0m0.443s\n",
            "user\t0m0.208s\n",
            "sys\t0m0.217s\n"
          ]
        }
      ]
    },
    {
      "cell_type": "code",
      "source": [
        "!time ./cuda < /content/drive/Shareddrives/Sister/test_cases/256.txt > outcuda256.txt"
      ],
      "metadata": {
        "colab": {
          "base_uri": "https://localhost:8080/"
        },
        "id": "8DVb_5IIwYOt",
        "outputId": "41040519-405b-4cbe-fb31-fabde5eafa43"
      },
      "execution_count": 16,
      "outputs": [
        {
          "output_type": "stream",
          "name": "stdout",
          "text": [
            "\n",
            "real\t0m0.722s\n",
            "user\t0m0.506s\n",
            "sys\t0m0.204s\n"
          ]
        }
      ]
    },
    {
      "cell_type": "code",
      "execution_count": 17,
      "metadata": {
        "colab": {
          "base_uri": "https://localhost:8080/"
        },
        "id": "Vqa_m2MWGYYq",
        "outputId": "882ad1ed-6ecc-415f-c6b0-cc0fd9d14dee"
      },
      "outputs": [
        {
          "output_type": "stream",
          "name": "stdout",
          "text": [
            "\n",
            "real\t0m2.502s\n",
            "user\t0m1.589s\n",
            "sys\t0m0.234s\n"
          ]
        }
      ],
      "source": [
        "!time ./cuda < /content/drive/Shareddrives/Sister/test_cases/512.txt > outcuda512.txt"
      ]
    },
    {
      "cell_type": "code",
      "source": [
        "!time ./cuda < /content/drive/Shareddrives/Sister/test_cases/1024.txt > outcuda1024.txt"
      ],
      "metadata": {
        "colab": {
          "base_uri": "https://localhost:8080/"
        },
        "id": "ELueLqVxegi2",
        "outputId": "4165088c-98ad-431d-faa9-76f8fd1c1068"
      },
      "execution_count": 18,
      "outputs": [
        {
          "output_type": "stream",
          "name": "stdout",
          "text": [
            "\n",
            "real\t0m7.911s\n",
            "user\t0m6.138s\n",
            "sys\t0m0.269s\n"
          ]
        }
      ]
    },
    {
      "cell_type": "code",
      "source": [
        "!time ./cuda < /content/drive/Shareddrives/Sister/test_cases/2048.txt > outcuda2048.txt"
      ],
      "metadata": {
        "colab": {
          "base_uri": "https://localhost:8080/"
        },
        "id": "ni9jalOQelWk",
        "outputId": "ef4ee1eb-8113-4164-dc0f-711da23fa4b2"
      },
      "execution_count": 19,
      "outputs": [
        {
          "output_type": "stream",
          "name": "stdout",
          "text": [
            "\n",
            "real\t0m24.686s\n",
            "user\t0m21.434s\n",
            "sys\t0m0.370s\n"
          ]
        }
      ]
    },
    {
      "cell_type": "markdown",
      "source": [
        "# Execution Serial"
      ],
      "metadata": {
        "id": "2tTIjiJwbL8Y"
      }
    },
    {
      "cell_type": "code",
      "source": [
        "!g++ /content/drive/Shareddrives/Sister/serial/serial.cpp -o serial"
      ],
      "metadata": {
        "id": "OMDo1laPYruI"
      },
      "execution_count": 3,
      "outputs": []
    },
    {
      "cell_type": "code",
      "source": [
        "!time ./serial < /content/drive/Shareddrives/Sister/test_cases/32.txt > out32.txt"
      ],
      "metadata": {
        "colab": {
          "base_uri": "https://localhost:8080/"
        },
        "id": "rqn_o_a2uwtL",
        "outputId": "13bdeaa8-f05b-4556-9f31-58a1ec818589"
      },
      "execution_count": 4,
      "outputs": [
        {
          "output_type": "stream",
          "name": "stdout",
          "text": [
            "\n",
            "real\t0m0.357s\n",
            "user\t0m0.003s\n",
            "sys\t0m0.002s\n"
          ]
        }
      ]
    },
    {
      "cell_type": "code",
      "source": [
        "!time ./serial < /content/drive/Shareddrives/Sister/test_cases/64.txt > out64.txt"
      ],
      "metadata": {
        "colab": {
          "base_uri": "https://localhost:8080/"
        },
        "id": "GgFMkZV0vB8A",
        "outputId": "9f0d2b9a-9870-44a0-e3b0-a7772b56eb38"
      },
      "execution_count": 5,
      "outputs": [
        {
          "output_type": "stream",
          "name": "stdout",
          "text": [
            "\n",
            "real\t0m0.529s\n",
            "user\t0m0.009s\n",
            "sys\t0m0.003s\n"
          ]
        }
      ]
    },
    {
      "cell_type": "code",
      "source": [
        "!time ./serial < /content/drive/Shareddrives/Sister/test_cases/128.txt > out128.txt"
      ],
      "metadata": {
        "colab": {
          "base_uri": "https://localhost:8080/"
        },
        "id": "e0XuFcnCvDus",
        "outputId": "02bb3325-8dd2-4968-9d37-50e01fee45b8"
      },
      "execution_count": 6,
      "outputs": [
        {
          "output_type": "stream",
          "name": "stdout",
          "text": [
            "\n",
            "real\t0m0.615s\n",
            "user\t0m0.089s\n",
            "sys\t0m0.002s\n"
          ]
        }
      ]
    },
    {
      "cell_type": "code",
      "source": [
        "!time ./serial < /content/drive/Shareddrives/Sister/test_cases/256.txt > out256.txt"
      ],
      "metadata": {
        "colab": {
          "base_uri": "https://localhost:8080/"
        },
        "id": "hOXft5invFr0",
        "outputId": "b7c640c4-8ede-4bc4-a036-316419aa032e"
      },
      "execution_count": 7,
      "outputs": [
        {
          "output_type": "stream",
          "name": "stdout",
          "text": [
            "\n",
            "real\t0m1.279s\n",
            "user\t0m0.352s\n",
            "sys\t0m0.004s\n"
          ]
        }
      ]
    },
    {
      "cell_type": "code",
      "source": [
        "!time ./serial < /content/drive/Shareddrives/Sister/test_cases/512.txt > out512.txt"
      ],
      "metadata": {
        "colab": {
          "base_uri": "https://localhost:8080/"
        },
        "id": "G5jpIc6YZxoG",
        "outputId": "61492c98-e4b1-417d-9d0b-b65cca9559b4"
      },
      "execution_count": 20,
      "outputs": [
        {
          "output_type": "stream",
          "name": "stdout",
          "text": [
            "\n",
            "real\t0m2.335s\n",
            "user\t0m2.307s\n",
            "sys\t0m0.019s\n"
          ]
        }
      ]
    },
    {
      "cell_type": "code",
      "source": [
        "!time ./serial < /content/drive/Shareddrives/Sister/test_cases/1024.txt > out1024.txt"
      ],
      "metadata": {
        "colab": {
          "base_uri": "https://localhost:8080/"
        },
        "id": "6kAq5jGuepsd",
        "outputId": "f4ad461a-ae5b-45ae-b2ac-c9cd90ede290"
      },
      "execution_count": 21,
      "outputs": [
        {
          "output_type": "stream",
          "name": "stdout",
          "text": [
            "\n",
            "real\t0m20.865s\n",
            "user\t0m20.586s\n",
            "sys\t0m0.057s\n"
          ]
        }
      ]
    },
    {
      "cell_type": "code",
      "source": [
        "!time ./serial < /content/drive/Shareddrives/Sister/test_cases/2048.txt > out2048.txt"
      ],
      "metadata": {
        "colab": {
          "base_uri": "https://localhost:8080/"
        },
        "id": "30ix8fbIepao",
        "outputId": "6896f242-e93d-4f22-9ba6-571882f05507"
      },
      "execution_count": 22,
      "outputs": [
        {
          "output_type": "stream",
          "name": "stdout",
          "text": [
            "\n",
            "real\t2m34.759s\n",
            "user\t2m33.350s\n",
            "sys\t0m0.265s\n"
          ]
        }
      ]
    }
  ],
  "metadata": {
    "accelerator": "GPU",
    "colab": {
      "provenance": [],
      "gpuType": "T4"
    },
    "kernelspec": {
      "display_name": "Python 3",
      "name": "python3"
    },
    "language_info": {
      "codemirror_mode": {
        "name": "ipython",
        "version": 3
      },
      "file_extension": ".py",
      "mimetype": "text/x-python",
      "name": "python",
      "nbconvert_exporter": "python",
      "pygments_lexer": "ipython3",
      "version": "3.9.6"
    }
  },
  "nbformat": 4,
  "nbformat_minor": 0
}