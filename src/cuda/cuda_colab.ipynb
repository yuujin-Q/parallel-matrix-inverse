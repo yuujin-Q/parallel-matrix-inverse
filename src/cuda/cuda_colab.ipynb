{
  "cells": [
    {
      "cell_type": "markdown",
      "metadata": {
        "id": "GY5LBx4UuxZl"
      },
      "source": [
        "# Setup"
      ]
    },
    {
      "cell_type": "code",
      "execution_count": null,
      "metadata": {
        "id": "PExlVrs4uv4m"
      },
      "outputs": [],
      "source": [
        "# https://www.geeksforgeeks.org/how-to-run-cuda-c-c-on-jupyter-notebook-in-google-colaboratory/"
      ]
    },
    {
      "cell_type": "code",
      "execution_count": null,
      "metadata": {
        "colab": {
          "base_uri": "https://localhost:8080/"
        },
        "id": "M-AIy-7PsXXp",
        "outputId": "812bfa38-43dc-4d6d-8fa7-a9e8def89ca5"
      },
      "outputs": [
        {
          "output_type": "stream",
          "name": "stdout",
          "text": [
            "nvcc: NVIDIA (R) Cuda compiler driver\n",
            "Copyright (c) 2005-2023 NVIDIA Corporation\n",
            "Built on Tue_Aug_15_22:02:13_PDT_2023\n",
            "Cuda compilation tools, release 12.2, V12.2.140\n",
            "Build cuda_12.2.r12.2/compiler.33191640_0\n"
          ]
        }
      ],
      "source": [
        "!nvcc --version"
      ]
    },
    {
      "cell_type": "code",
      "source": [
        "!pip install git+https://github.com/andreinechaev/nvcc4jupyter.git"
      ],
      "metadata": {
        "colab": {
          "base_uri": "https://localhost:8080/"
        },
        "id": "oHS_oHkjG9w-",
        "outputId": "c2928898-95b5-44f4-c1fa-494458ca13e8"
      },
      "execution_count": null,
      "outputs": [
        {
          "output_type": "stream",
          "name": "stdout",
          "text": [
            "Collecting git+https://github.com/andreinechaev/nvcc4jupyter.git\n",
            "  Cloning https://github.com/andreinechaev/nvcc4jupyter.git to /tmp/pip-req-build-aj9acu2k\n",
            "  Running command git clone --filter=blob:none --quiet https://github.com/andreinechaev/nvcc4jupyter.git /tmp/pip-req-build-aj9acu2k\n",
            "  Resolved https://github.com/andreinechaev/nvcc4jupyter.git to commit 5741c522547756ac4bb7a16df32106a15efb8a57\n",
            "  Installing build dependencies ... \u001b[?25l\u001b[?25hdone\n",
            "  Getting requirements to build wheel ... \u001b[?25l\u001b[?25hdone\n",
            "  Preparing metadata (pyproject.toml) ... \u001b[?25l\u001b[?25hdone\n",
            "Building wheels for collected packages: nvcc4jupyter\n",
            "  Building wheel for nvcc4jupyter (pyproject.toml) ... \u001b[?25l\u001b[?25hdone\n",
            "  Created wheel for nvcc4jupyter: filename=nvcc4jupyter-1.2.1-py3-none-any.whl size=10742 sha256=655723c0d2f4841dd76e45e772f96358a5fda83aba7888a669bf1eb2bb64257b\n",
            "  Stored in directory: /tmp/pip-ephem-wheel-cache-q07q5873/wheels/a8/b9/18/23f8ef71ceb0f63297dd1903aedd067e6243a68ea756d6feea\n",
            "Successfully built nvcc4jupyter\n",
            "Installing collected packages: nvcc4jupyter\n",
            "Successfully installed nvcc4jupyter-1.2.1\n"
          ]
        }
      ]
    },
    {
      "cell_type": "code",
      "source": [
        "%load_ext nvcc4jupyter"
      ],
      "metadata": {
        "colab": {
          "base_uri": "https://localhost:8080/"
        },
        "id": "8_lj4MJZHCfW",
        "outputId": "6637fc88-265a-4d7f-8e9e-c0dd8efbb481"
      },
      "execution_count": null,
      "outputs": [
        {
          "output_type": "stream",
          "name": "stdout",
          "text": [
            "Detected platform \"Colab\". Running its setup...\n",
            "Source files will be saved in \"/tmp/tmpf5zlhr55\".\n"
          ]
        }
      ]
    },
    {
      "cell_type": "markdown",
      "metadata": {
        "id": "KhW3T1YGu6Ew"
      },
      "source": [
        "# Kode CUDA"
      ]
    },
    {
      "cell_type": "code",
      "execution_count": 94,
      "metadata": {
        "colab": {
          "base_uri": "https://localhost:8080/"
        },
        "id": "Co9T1Xpo3AnO",
        "outputId": "2dc2aa23-4515-4ad0-b039-d90e8cb77d86"
      },
      "outputs": [
        {
          "output_type": "stream",
          "name": "stdout",
          "text": [
            "Overwriting cuda.cu\n"
          ]
        }
      ],
      "source": [
        "%%writefile cuda.cu\n",
        "\n",
        "#include <stdio.h>\n",
        "#include <math.h>\n",
        "#include <stdbool.h>\n",
        "\n",
        "double *allocate_matrix(int n, bool isAugmented)\n",
        "{\n",
        "  int col = isAugmented ? 2*n : n;\n",
        "    double *mat = (double *)malloc(n * col * sizeof(double));\n",
        "\n",
        "    if (mat == NULL)\n",
        "    {\n",
        "        printf(\"Memory allocation failed!\");\n",
        "        free(mat);\n",
        "        return NULL;\n",
        "    }\n",
        "\n",
        "    return mat;\n",
        "}\n",
        "\n",
        "int get_matrix_index(int row, int col, int width)\n",
        "{\n",
        "    return width * row + col;\n",
        "}\n",
        "\n",
        "void read_matrix(double *matrix, int n)\n",
        "{\n",
        "    double d = 0.0;\n",
        "        for (int i = 0; i < n; i++)\n",
        "        {\n",
        "            for (int j = 0; j < n; j++)\n",
        "            {\n",
        "                scanf(\"%lf\", &d);\n",
        "                matrix[get_matrix_index(i, j, 2 * (n))] = d;\n",
        "            }\n",
        "        }\n",
        "        for (int i = 0; i < n; ++i)\n",
        "        {\n",
        "            for (int j = n; j < 2 * (n); ++j)\n",
        "            {\n",
        "                if (j == (i + (n)))\n",
        "                {\n",
        "                    matrix[get_matrix_index(i, j, 2 * (n))] = 1;\n",
        "                }\n",
        "                else\n",
        "                {\n",
        "                    matrix[get_matrix_index(i, j, 2 * (n))] = 0;\n",
        "                }\n",
        "            }\n",
        "        }\n",
        "}\n",
        "\n",
        "void print_result(double *mat, int rows)\n",
        "{\n",
        "    printf(\"%d\\n\", rows);\n",
        "    for (int i = 0; i < rows; i++)\n",
        "    {\n",
        "        for (int j = rows; j < rows*2; j++)\n",
        "        {\n",
        "            printf(\"%lf \", mat[get_matrix_index(i, j, rows*2)]);\n",
        "        }\n",
        "        printf(\"\\n\");\n",
        "    }\n",
        "}\n",
        "\n",
        "__device__ int GetMatrixIdx(int row, int col, int width)\n",
        "{\n",
        "    return width * row + col;\n",
        "}\n",
        "\n",
        "__global__ void SubsPivotKernel(double* mat, int n, int pivot_idx, int block_size) {\n",
        "  int row_size = n /block_size;\n",
        "  int start_row = (threadIdx.x * row_size);\n",
        "  int end_row = start_row + row_size;\n",
        "\n",
        "  for (int row = start_row; row < end_row; row++) {\n",
        "    if (row == pivot_idx) {\n",
        "      double pivot = mat[GetMatrixIdx(pivot_idx, pivot_idx, 2*n)];\n",
        "      for (int col = 0; col < 2*n; col++) {\n",
        "        mat[GetMatrixIdx(pivot_idx, col, 2*n)] /= pivot;\n",
        "      }\n",
        "    }\n",
        "\n",
        "    __syncthreads();\n",
        "\n",
        "    if (row != pivot_idx) {\n",
        "      double d = mat[GetMatrixIdx(row, pivot_idx, 2*n)] / mat[GetMatrixIdx(pivot_idx, pivot_idx, 2*n)];\n",
        "      for (int col = 0; col < 2*n; col++) {\n",
        "        mat[GetMatrixIdx(row, col, 2*n)] -= (d * mat[GetMatrixIdx(pivot_idx, col, 2*n)]);\n",
        "      }\n",
        "    }\n",
        "\n",
        "    __syncthreads();\n",
        "  }\n",
        "}\n",
        "\n",
        "void invert_matrix(int n, double* mat) {\n",
        "  double* d_mat;\n",
        "  size_t size = n * n * 2 * sizeof(double);\n",
        "  cudaMalloc((void**)&d_mat, size);\n",
        "  cudaMemcpy(d_mat, mat, size, cudaMemcpyHostToDevice);\n",
        "\n",
        "  int block_size = n >= 1024 ? 1024 : n;\n",
        "   dim3 dimBlock(block_size);\n",
        "   dim3 dimGrid(1, 1);\n",
        "\n",
        "   for (int i=0; i<n; i++) {\n",
        "    SubsPivotKernel<<<dimGrid, dimBlock>>>(d_mat, n, i, block_size);\n",
        "   }\n",
        "\n",
        "   cudaMemcpy(mat, d_mat, size, cudaMemcpyDeviceToHost);\n",
        "\n",
        "   cudaFree(d_mat);\n",
        "}\n",
        "\n",
        "int main(void) {\n",
        "  int n;\n",
        "  scanf(\"%d\", &n);\n",
        "\n",
        "  double* mat = allocate_matrix(n, true);\n",
        "  read_matrix(mat, n);\n",
        "\n",
        "  invert_matrix(n, mat);\n",
        "\n",
        "  print_result(mat, n);\n",
        "\n",
        "  return 0;\n",
        "}"
      ]
    },
    {
      "cell_type": "code",
      "execution_count": 95,
      "metadata": {
        "id": "h6eFuOC1qTid"
      },
      "outputs": [],
      "source": [
        "!nvcc cuda.cu -o cuda"
      ]
    },
    {
      "cell_type": "markdown",
      "metadata": {
        "id": "-t4bNRTgs6AC"
      },
      "source": [
        "# Get Testcase"
      ]
    },
    {
      "cell_type": "code",
      "source": [
        "from google.colab import drive\n",
        "drive.mount('/content/drive')"
      ],
      "metadata": {
        "colab": {
          "base_uri": "https://localhost:8080/"
        },
        "id": "_VawfwZoCRtW",
        "outputId": "582a317d-9460-43c1-f9df-1ff87304fb64"
      },
      "execution_count": null,
      "outputs": [
        {
          "output_type": "stream",
          "name": "stdout",
          "text": [
            "Mounted at /content/drive\n"
          ]
        }
      ]
    },
    {
      "cell_type": "markdown",
      "source": [
        "access test case using this path /content/drive/Shareddrives/Sister/test_cases/32.txt"
      ],
      "metadata": {
        "id": "9YhOKUnQDaW_"
      }
    },
    {
      "cell_type": "markdown",
      "metadata": {
        "id": "7tC3-PYVGYYq"
      },
      "source": [
        "# Execution Cuda"
      ]
    },
    {
      "cell_type": "code",
      "execution_count": 99,
      "metadata": {
        "colab": {
          "base_uri": "https://localhost:8080/"
        },
        "id": "Vqa_m2MWGYYq",
        "outputId": "3c491ac8-5475-4ef2-a5e2-dba075342592"
      },
      "outputs": [
        {
          "output_type": "stream",
          "name": "stdout",
          "text": [
            "\n",
            "real\t0m1.315s\n",
            "user\t0m1.074s\n",
            "sys\t0m0.231s\n"
          ]
        }
      ],
      "source": [
        "!time ./cuda < /content/drive/Shareddrives/Sister/test_cases/512.txt > outcuda.txt"
      ]
    },
    {
      "cell_type": "markdown",
      "source": [
        "# Execution Serial"
      ],
      "metadata": {
        "id": "2tTIjiJwbL8Y"
      }
    },
    {
      "cell_type": "code",
      "source": [
        "!g++ /content/drive/Shareddrives/Sister/serial/serial.cpp -o serial"
      ],
      "metadata": {
        "id": "OMDo1laPYruI"
      },
      "execution_count": null,
      "outputs": []
    },
    {
      "cell_type": "code",
      "source": [
        "!time ./serial < /content/drive/Shareddrives/Sister/test_cases/512.txt > out.txt"
      ],
      "metadata": {
        "colab": {
          "base_uri": "https://localhost:8080/"
        },
        "id": "G5jpIc6YZxoG",
        "outputId": "905494de-0852-4661-d662-9e90fbfac30f"
      },
      "execution_count": 98,
      "outputs": [
        {
          "output_type": "stream",
          "name": "stdout",
          "text": [
            "\n",
            "real\t0m2.357s\n",
            "user\t0m2.331s\n",
            "sys\t0m0.015s\n"
          ]
        }
      ]
    }
  ],
  "metadata": {
    "accelerator": "GPU",
    "colab": {
      "provenance": [],
      "gpuType": "T4"
    },
    "kernelspec": {
      "display_name": "Python 3",
      "name": "python3"
    },
    "language_info": {
      "codemirror_mode": {
        "name": "ipython",
        "version": 3
      },
      "file_extension": ".py",
      "mimetype": "text/x-python",
      "name": "python",
      "nbconvert_exporter": "python",
      "pygments_lexer": "ipython3",
      "version": "3.9.6"
    }
  },
  "nbformat": 4,
  "nbformat_minor": 0
}